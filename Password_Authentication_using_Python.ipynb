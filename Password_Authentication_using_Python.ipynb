{
  "nbformat": 4,
  "nbformat_minor": 0,
  "metadata": {
    "colab": {
      "provenance": [],
      "authorship_tag": "ABX9TyOnYcYwCOjY+lZGbxWRRPLI",
      "include_colab_link": true
    },
    "kernelspec": {
      "name": "python3",
      "display_name": "Python 3"
    },
    "language_info": {
      "name": "python"
    }
  },
  "cells": [
    {
      "cell_type": "markdown",
      "metadata": {
        "id": "view-in-github",
        "colab_type": "text"
      },
      "source": [
        "<a href=\"https://colab.research.google.com/github/jj0ng/TIL/blob/main/Password_Authentication_using_Python.ipynb\" target=\"_parent\"><img src=\"https://colab.research.google.com/assets/colab-badge.svg\" alt=\"Open In Colab\"/></a>"
      ]
    },
    {
      "cell_type": "code",
      "execution_count": 11,
      "metadata": {
        "colab": {
          "base_uri": "https://localhost:8080/"
        },
        "id": "AMjGszP4-EGC",
        "outputId": "b81faf94-6b3b-4795-bcde-b556c6c57724"
      },
      "outputs": [
        {
          "output_type": "stream",
          "name": "stdout",
          "text": [
            "Enter Your Username: Jonghwa.Kim\n",
            "Enter Your Password: ··········\n",
            "Enter Your Password Again: ··········\n",
            "Verified\n"
          ]
        }
      ],
      "source": [
        "import getpass\n",
        "database = {\"Jonghwa.Kim\": \"123456\", \"Gildong Hong\": \"654321\"}\n",
        "username = input(\"Enter Your Username: \")\n",
        "password = getpass.getpass(\"Enter Your Password: \")\n",
        "for i in database.keys():\n",
        "    if username == i:\n",
        "      while password != database.get(i):\n",
        "        password = getpass.getpass(\"Enter Your Password Again: \")\n",
        "      break\n",
        "print(\"Verified\")\n",
        "  "
      ]
    },
    {
      "cell_type": "code",
      "source": [
        "database.keys()"
      ],
      "metadata": {
        "colab": {
          "base_uri": "https://localhost:8080/"
        },
        "id": "p9hPzkGZ_hpx",
        "outputId": "70b90b53-11f9-4cb5-ba35-92dbc3dce77c"
      },
      "execution_count": 5,
      "outputs": [
        {
          "output_type": "execute_result",
          "data": {
            "text/plain": [
              "dict_keys(['Jonghwa.Kim', 'Gildong Hong'])"
            ]
          },
          "metadata": {},
          "execution_count": 5
        }
      ]
    },
    {
      "cell_type": "code",
      "source": [
        "database.get(\"Jonghwa.Kim\")"
      ],
      "metadata": {
        "colab": {
          "base_uri": "https://localhost:8080/",
          "height": 37
        },
        "id": "Zt-ynxRiBEEj",
        "outputId": "b25a0931-6725-44ab-d1a5-2589c3f444cf"
      },
      "execution_count": 14,
      "outputs": [
        {
          "output_type": "execute_result",
          "data": {
            "text/plain": [
              "'123456'"
            ],
            "application/vnd.google.colaboratory.intrinsic+json": {
              "type": "string"
            }
          },
          "metadata": {},
          "execution_count": 14
        }
      ]
    },
    {
      "cell_type": "code",
      "source": [
        "passwd = input(\"Password: \")"
      ],
      "metadata": {
        "colab": {
          "base_uri": "https://localhost:8080/"
        },
        "id": "2ZsKkxPr-cro",
        "outputId": "78bac0c8-9494-487b-fa92-8c0bd34ed57c"
      },
      "execution_count": 2,
      "outputs": [
        {
          "name": "stdout",
          "output_type": "stream",
          "text": [
            "Password: abcde1234\n"
          ]
        }
      ]
    },
    {
      "cell_type": "code",
      "source": [
        "passwd = getpass.getpass(\"Password: \")"
      ],
      "metadata": {
        "colab": {
          "base_uri": "https://localhost:8080/"
        },
        "id": "twXVC-3y-jwd",
        "outputId": "b3601b6f-096d-4850-d370-c089006f1172"
      },
      "execution_count": 12,
      "outputs": [
        {
          "name": "stdout",
          "output_type": "stream",
          "text": [
            "Password: ··········\n"
          ]
        }
      ]
    }
  ]
}