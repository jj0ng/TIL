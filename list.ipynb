{
  "nbformat": 4,
  "nbformat_minor": 0,
  "metadata": {
    "colab": {
      "provenance": [],
      "authorship_tag": "ABX9TyPzJJrdTfYjqFUswUdjx7cq",
      "include_colab_link": true
    },
    "kernelspec": {
      "name": "python3",
      "display_name": "Python 3"
    },
    "language_info": {
      "name": "python"
    }
  },
  "cells": [
    {
      "cell_type": "markdown",
      "metadata": {
        "id": "view-in-github",
        "colab_type": "text"
      },
      "source": [
        "<a href=\"https://colab.research.google.com/github/jj0ng/TIL/blob/main/list.ipynb\" target=\"_parent\"><img src=\"https://colab.research.google.com/assets/colab-badge.svg\" alt=\"Open In Colab\"/></a>"
      ]
    },
    {
      "cell_type": "code",
      "execution_count": 15,
      "metadata": {
        "colab": {
          "base_uri": "https://localhost:8080/"
        },
        "id": "mb6wm2A6AUjO",
        "outputId": "1564e7fc-4855-4b60-9acd-3c5e0756cb4d"
      },
      "outputs": [
        {
          "output_type": "stream",
          "name": "stdout",
          "text": [
            "[]\n"
          ]
        }
      ],
      "source": [
        "my_list1 = []\n",
        "print(my_list1)"
      ]
    },
    {
      "cell_type": "markdown",
      "source": [],
      "metadata": {
        "id": "WEeYi_pbLVQ0"
      }
    },
    {
      "cell_type": "code",
      "source": [
        "my_list2 = [1, -2, 3.14]\n",
        "print(my_list2)"
      ],
      "metadata": {
        "colab": {
          "base_uri": "https://localhost:8080/"
        },
        "id": "mnHuBHwrBEmk",
        "outputId": "29f611b6-783a-4575-b996-d2731f102e95"
      },
      "execution_count": 16,
      "outputs": [
        {
          "output_type": "stream",
          "name": "stdout",
          "text": [
            "[1, -2, 3.14]\n"
          ]
        }
      ]
    },
    {
      "cell_type": "code",
      "source": [
        "my_list3 = ['앨리스', 10, [1.0, 1.2]]\n",
        "print(my_list3)"
      ],
      "metadata": {
        "colab": {
          "base_uri": "https://localhost:8080/"
        },
        "id": "HQluQj5QBS0q",
        "outputId": "247e6bae-8cf9-457b-d8e6-00cb881a55a9"
      },
      "execution_count": 17,
      "outputs": [
        {
          "output_type": "stream",
          "name": "stdout",
          "text": [
            "['앨리스', 10, [1.0, 1.2]]\n"
          ]
        }
      ]
    },
    {
      "cell_type": "code",
      "source": [
        "clovers = [] \n",
        "clovers.append('클로버1')\n",
        "print(clovers)"
      ],
      "metadata": {
        "colab": {
          "base_uri": "https://localhost:8080/"
        },
        "id": "MnHBj-tCB4-z",
        "outputId": "ad4a80d8-e4aa-49f1-9102-8d0b39ca3509"
      },
      "execution_count": 18,
      "outputs": [
        {
          "output_type": "stream",
          "name": "stdout",
          "text": [
            "['클로버1']\n"
          ]
        }
      ]
    },
    {
      "cell_type": "code",
      "source": [
        "clovers.append('하트2')\n",
        "print(clovers)"
      ],
      "metadata": {
        "colab": {
          "base_uri": "https://localhost:8080/"
        },
        "id": "fFlTZ3pSCo2Y",
        "outputId": "f33b302f-72e6-46ae-cf8e-b4ced750fc8a"
      },
      "execution_count": 19,
      "outputs": [
        {
          "output_type": "stream",
          "name": "stdout",
          "text": [
            "['클로버1', '하트2']\n"
          ]
        }
      ]
    },
    {
      "cell_type": "code",
      "source": [
        "clovers.append('클로버3')\n",
        "print(clovers)"
      ],
      "metadata": {
        "colab": {
          "base_uri": "https://localhost:8080/"
        },
        "id": "_CSh1_WECuvi",
        "outputId": "2090c857-8786-4e48-beed-93180990b47a"
      },
      "execution_count": 20,
      "outputs": [
        {
          "output_type": "stream",
          "name": "stdout",
          "text": [
            "['클로버1', '하트2', '클로버3']\n"
          ]
        }
      ]
    },
    {
      "cell_type": "code",
      "source": [
        "print(clovers[1])"
      ],
      "metadata": {
        "colab": {
          "base_uri": "https://localhost:8080/"
        },
        "id": "6qOqvY2UDiui",
        "outputId": "cf866a0c-15bb-4684-bb2a-99584e728576"
      },
      "execution_count": 21,
      "outputs": [
        {
          "output_type": "stream",
          "name": "stdout",
          "text": [
            "하트2\n"
          ]
        }
      ]
    },
    {
      "cell_type": "code",
      "source": [
        "clovers[1] = '클로버2'\n",
        "print(clovers[1])"
      ],
      "metadata": {
        "colab": {
          "base_uri": "https://localhost:8080/"
        },
        "id": "dOal8wH3Dq6J",
        "outputId": "33fae032-6a42-4a0f-b9af-ef801ccde0bd"
      },
      "execution_count": 22,
      "outputs": [
        {
          "output_type": "stream",
          "name": "stdout",
          "text": [
            "클로버2\n"
          ]
        }
      ]
    },
    {
      "cell_type": "code",
      "source": [
        "print(clovers)"
      ],
      "metadata": {
        "colab": {
          "base_uri": "https://localhost:8080/"
        },
        "id": "YZbS2J58EEMY",
        "outputId": "92c7369f-311e-49ed-a2f1-dbe355a6f095"
      },
      "execution_count": 23,
      "outputs": [
        {
          "output_type": "stream",
          "name": "stdout",
          "text": [
            "['클로버1', '클로버2', '클로버3']\n"
          ]
        }
      ]
    },
    {
      "cell_type": "code",
      "source": [
        "del clovers[1]\n",
        "print(clovers) "
      ],
      "metadata": {
        "colab": {
          "base_uri": "https://localhost:8080/"
        },
        "id": "emPLZgqOEYp3",
        "outputId": "8b3ddde6-a119-4981-b601-0c9d0cf87692"
      },
      "execution_count": 24,
      "outputs": [
        {
          "output_type": "stream",
          "name": "stdout",
          "text": [
            "['클로버1', '클로버3']\n"
          ]
        }
      ]
    },
    {
      "cell_type": "code",
      "source": [
        "print(clovers[1])"
      ],
      "metadata": {
        "colab": {
          "base_uri": "https://localhost:8080/"
        },
        "id": "7MUAotlyEwt1",
        "outputId": "27d7932b-a3d0-456a-ef73-f0ca1deabb0a"
      },
      "execution_count": 26,
      "outputs": [
        {
          "output_type": "stream",
          "name": "stdout",
          "text": [
            "클로버3\n"
          ]
        }
      ]
    },
    {
      "cell_type": "code",
      "source": [
        "candies = ['딸기맛','레몬맛','수박맛','박하맛','우유맛']\n",
        "candies.append('콜라맛')\n",
        "candies.append('포도맛')\n",
        "print(candies)\n",
        "del candies[3]\n",
        "print(candies)"
      ],
      "metadata": {
        "colab": {
          "base_uri": "https://localhost:8080/"
        },
        "id": "Rx2eKagmEx3b",
        "outputId": "4cdb11a0-d691-4068-cf46-da227b505036"
      },
      "execution_count": 36,
      "outputs": [
        {
          "output_type": "stream",
          "name": "stdout",
          "text": [
            "['딸기맛', '레몬맛', '수박맛', '박하맛', '우유맛', '콜라맛', '포도맛']\n",
            "['딸기맛', '레몬맛', '수박맛', '우유맛', '콜라맛', '포도맛']\n"
          ]
        }
      ]
    },
    {
      "cell_type": "code",
      "source": [
        "week = ['월','화','수','목','금','토','일']\n",
        "print(week[2:5])"
      ],
      "metadata": {
        "colab": {
          "base_uri": "https://localhost:8080/"
        },
        "id": "6ecnasdwIZ8L",
        "outputId": "e34eccff-86ac-4a35-ca12-82bb8ba68a11"
      },
      "execution_count": 38,
      "outputs": [
        {
          "output_type": "stream",
          "name": "stdout",
          "text": [
            "['수', '목', '금']\n"
          ]
        }
      ]
    },
    {
      "cell_type": "code",
      "source": [
        "candies = ['딸기맛','레몬맛','수박맛','우유맛','콜라맛','포도맛']\n",
        "\n",
        "cat_candy = candies[0]\n",
        "print('체셔고양이에게는',cat_candy,'사탕을 줘요.')\n",
        "\n",
        "duck_candy = candies[1]\n",
        "print('오리에게는',duck_candy,'사탕을 줘요.')\n",
        "\n",
        "dodo_candies = candies[3:6]\n",
        "print('도도새에게는',dodo_candies,'사탕을 줘요.')\n"
      ],
      "metadata": {
        "colab": {
          "base_uri": "https://localhost:8080/"
        },
        "id": "zMfnyd_SJ3LL",
        "outputId": "e09b3c43-1149-458c-e695-9f93d24d2b14"
      },
      "execution_count": 39,
      "outputs": [
        {
          "output_type": "stream",
          "name": "stdout",
          "text": [
            "체셔고양이에게는 딸기맛 사탕을 줘요.\n",
            "오리에게는 레몬맛 사탕을 줘요.\n",
            "도도새에게는 ['우유맛', '콜라맛', '포도맛'] 사탕을 줘요.\n"
          ]
        }
      ]
    },
    {
      "cell_type": "code",
      "source": [
        "animals = ['체셔고양이', '오리', '도도새']\n",
        "animals.sort()\n",
        "print(animals)"
      ],
      "metadata": {
        "colab": {
          "base_uri": "https://localhost:8080/"
        },
        "id": "W01aXlOWKnVz",
        "outputId": "ae9e1c91-45d6-477b-e0c5-56e7e9b3d59a"
      },
      "execution_count": 40,
      "outputs": [
        {
          "output_type": "stream",
          "name": "stdout",
          "text": [
            "['도도새', '오리', '체셔고양이']\n"
          ]
        }
      ]
    },
    {
      "cell_type": "code",
      "source": [
        "cards = ['하트','클로버','하트','다이아']\n",
        "print(cards.count('하트'))\n",
        "print(cards.count('클로버'))"
      ],
      "metadata": {
        "colab": {
          "base_uri": "https://localhost:8080/"
        },
        "id": "jgjY4KJcK53x",
        "outputId": "08b0b544-760a-4e21-d831-e102234b5d94"
      },
      "execution_count": 42,
      "outputs": [
        {
          "output_type": "stream",
          "name": "stdout",
          "text": [
            "2\n",
            "1\n"
          ]
        }
      ]
    }
  ]
}