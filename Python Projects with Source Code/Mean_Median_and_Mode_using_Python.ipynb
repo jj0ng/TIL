{
  "nbformat": 4,
  "nbformat_minor": 0,
  "metadata": {
    "colab": {
      "provenance": [],
      "authorship_tag": "ABX9TyP9QFPeHaNZPhN6RMm/IBZV",
      "include_colab_link": true
    },
    "kernelspec": {
      "name": "python3",
      "display_name": "Python 3"
    },
    "language_info": {
      "name": "python"
    }
  },
  "cells": [
    {
      "cell_type": "markdown",
      "metadata": {
        "id": "view-in-github",
        "colab_type": "text"
      },
      "source": [
        "<a href=\"https://colab.research.google.com/github/jj0ng/TIL/blob/main/Mean_Median_and_Mode_using_Python.ipynb\" target=\"_parent\"><img src=\"https://colab.research.google.com/assets/colab-badge.svg\" alt=\"Open In Colab\"/></a>"
      ]
    },
    {
      "cell_type": "markdown",
      "source": [
        "# Mean Median and Mode using Python"
      ],
      "metadata": {
        "id": "gjS_np_ftb4E"
      }
    },
    {
      "cell_type": "markdown",
      "source": [
        "## Mean\n",
        "\n",
        "The mean is the average value of all the values in a dataset. To calculate the mean value of a dataset, we first need to find the sum of all the values and then divide the sum of all the values by the total number of values. So here’s how to calculate the mean using Python:"
      ],
      "metadata": {
        "id": "wVdk6t7LthNe"
      }
    },
    {
      "cell_type": "code",
      "source": [
        "# Mean \n",
        "list1 = [12, 16, 20, 20, 12, 30, 25, 23, 24, 20]\n",
        "mean = sum(list1) / len(list1)\n",
        "print(mean)"
      ],
      "metadata": {
        "colab": {
          "base_uri": "https://localhost:8080/"
        },
        "id": "eDfRE42FtloI",
        "outputId": "06111b74-70aa-491a-b078-b4c3f98b2271"
      },
      "execution_count": 8,
      "outputs": [
        {
          "output_type": "stream",
          "name": "stdout",
          "text": [
            "20.2\n"
          ]
        }
      ]
    },
    {
      "cell_type": "markdown",
      "source": [
        "## Median\n",
        "\n",
        "The Median is the middle value among all the values in sorted order. Here we need to calculate the mid-value of all the values in a dataset. But before calculating the Median, we need to arrange all the values in sorted order. There are two different ways of calculating the median value:\n",
        "\n",
        "1. when the total number of values is even: Median  = [(n/2)th term + {(n/2)+1}th]/2\n",
        "\n",
        "2. when the total number of values is odd: Median = {(n+1)/2}th term\n",
        "\n",
        "Now below is how you can calculate the median using Python:"
      ],
      "metadata": {
        "id": "2rtFziK_vzmu"
      }
    },
    {
      "cell_type": "code",
      "source": [
        "# Median\n",
        "list1 = [12, 16, 20, 20, 12, 30, 25, 23, 24, 20]\n",
        "list1.sort() # list 안의 값을 오름차순 혹은 내림차순으로 정리. reverse= True \n",
        "list1\n",
        "\n",
        "if len(list1) % 2 ==0:\n",
        "  m1 = list1[len(list1)//2]\n",
        "  m2 = list1[len(list1)//2-1] # 헷갈리는거 조심. 파이썬 순서 0부터 시작 \n",
        "  median = (m1 + m2) /2 \n",
        "else:\n",
        "  median = list1[len(list1)//2]\n",
        "print(median)"
      ],
      "metadata": {
        "colab": {
          "base_uri": "https://localhost:8080/"
        },
        "id": "0q_GIABMwA6D",
        "outputId": "0e9534ef-370b-4488-e50c-70b55958126f"
      },
      "execution_count": 23,
      "outputs": [
        {
          "output_type": "stream",
          "name": "stdout",
          "text": [
            "20.0\n"
          ]
        }
      ]
    },
    {
      "cell_type": "markdown",
      "source": [
        "## Mode\n",
        "\n",
        "Mode is the most frequently occurring value among all the values. Below is how we can calculate the mode value of a dataset using Python:"
      ],
      "metadata": {
        "id": "ws5NOKNHGvpY"
      }
    },
    {
      "cell_type": "code",
      "source": [
        "#Mode \n",
        "\n",
        "list1 = [12, 16, 20, 20, 12, 30, 25, 23, 24, 20]\n",
        "frequency = {}\n",
        "for i in list1:\n",
        "    frequency.setdefault(i, 0)\n",
        "    frequency[i]+=1\n",
        "\n",
        "frequent = max(frequency.values())\n",
        "for i, j in frequency.items():\n",
        "  if j == frequent:\n",
        "      mode = i\n",
        "print(mode)"
      ],
      "metadata": {
        "colab": {
          "base_uri": "https://localhost:8080/"
        },
        "id": "nRkzx6smGezG",
        "outputId": "d24d0b4a-eebc-4151-9514-396ba797ea3e"
      },
      "execution_count": 29,
      "outputs": [
        {
          "output_type": "stream",
          "name": "stdout",
          "text": [
            "20\n"
          ]
        }
      ]
    }
  ]
}
