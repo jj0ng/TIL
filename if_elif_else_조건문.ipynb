{
  "nbformat": 4,
  "nbformat_minor": 0,
  "metadata": {
    "colab": {
      "provenance": [],
      "authorship_tag": "ABX9TyOxQqHmb99Op/PCfOcckuhu",
      "include_colab_link": true
    },
    "kernelspec": {
      "name": "python3",
      "display_name": "Python 3"
    },
    "language_info": {
      "name": "python"
    }
  },
  "cells": [
    {
      "cell_type": "markdown",
      "metadata": {
        "id": "view-in-github",
        "colab_type": "text"
      },
      "source": [
        "<a href=\"https://colab.research.google.com/github/jj0ng/TIL/blob/main/if_elif_else_%EC%A1%B0%EA%B1%B4%EB%AC%B8.ipynb\" target=\"_parent\"><img src=\"https://colab.research.google.com/assets/colab-badge.svg\" alt=\"Open In Colab\"/></a>"
      ]
    },
    {
      "cell_type": "code",
      "execution_count": null,
      "metadata": {
        "id": "YSqP6Moz2w7e"
      },
      "outputs": [],
      "source": [
        "만약 달다면:\n",
        "    삼킨다.\n",
        "그렇지지 않으면:\n",
        "    뱉는다.\n",
        "\n",
        "if 달다면:\n",
        "    삼킨다.\n",
        "else:\n",
        "    뱉는다."
      ]
    },
    {
      "cell_type": "code",
      "source": [
        "a = 1234 * 4\n",
        "b= 13456 /2 \n",
        "\n",
        "# if 문을 사용해서 a가 크면 'a'를 출력하고 b가 크면 'b'를 출력하도록 프로그램을 작성\n",
        "\n",
        "if a>b: \n",
        "  print('a')\n",
        "else:\n",
        "  print('b')"
      ],
      "metadata": {
        "colab": {
          "base_uri": "https://localhost:8080/"
        },
        "id": "wvBHtCqv3iyU",
        "outputId": "0e3c1998-1d62-4c0f-b308-b20973237a4a"
      },
      "execution_count": 3,
      "outputs": [
        {
          "output_type": "stream",
          "name": "stdout",
          "text": [
            "b\n"
          ]
        }
      ]
    },
    {
      "cell_type": "code",
      "source": [
        "# elif 조건을 여러 개 주는 것도 가능\n",
        "\n",
        "c = 15 * 5\n",
        "d = 15 + 15 + 15 + 15 + 15\n",
        "if c > d: \n",
        "  print('c is greater than d')\n",
        "elif c == d:\n",
        "  print('c is equal to d')\n",
        "elif c < d: \n",
        "  print('c is less than d')\n",
        "else:\n",
        "  print('I don\\'t know') #\\ '를 문자로 인식"
      ],
      "metadata": {
        "colab": {
          "base_uri": "https://localhost:8080/"
        },
        "id": "5O6P6mRx4KF-",
        "outputId": "ee470c94-0010-47bd-d6e0-3c24b9f25fdd"
      },
      "execution_count": 4,
      "outputs": [
        {
          "output_type": "stream",
          "name": "stdout",
          "text": [
            "c is equal to d\n"
          ]
        }
      ]
    },
    {
      "cell_type": "code",
      "source": [
        "# 나머지 계산을 이용하는 if문\n",
        "48%4\n",
        "\n",
        "#어떤 수 a가 다른 수 b로 나누어 떨어지는지를 파이썬의 if 문으로 다음과 같이 코딩\n",
        "\n",
        "a = 48\n",
        "b = 4 \n",
        "\n",
        "if a % b == 0:\n",
        "  print(f'{a}는 {b}로 나누어 떨어집니다.')\n",
        "elif a % b != 0:\n",
        "  print(f'{a}는 {b}로 나누어 떨어지지 않습니다.')"
      ],
      "metadata": {
        "colab": {
          "base_uri": "https://localhost:8080/"
        },
        "id": "qNxbMDl15HDQ",
        "outputId": "39a978de-fa14-4a05-8251-0f44e2d7c58d"
      },
      "execution_count": 7,
      "outputs": [
        {
          "output_type": "stream",
          "name": "stdout",
          "text": [
            "48는 4로 나누어 떨어집니다.\n"
          ]
        }
      ]
    },
    {
      "cell_type": "code",
      "source": [
        "#조건에 따라 반복문 중단하기 \n",
        "#10보다 큰 숫자가 들어오면 멈추는 반복문을 작성\n",
        "\n",
        "max = 10 \n",
        "\n",
        "while True: \n",
        "  num = int(input('Please enter number: '))\n",
        "  if num > max: \n",
        "    print(num, 'is too big')\n",
        "    break # break가 없으면 숫자 계속 입력하라함 "
      ],
      "metadata": {
        "colab": {
          "base_uri": "https://localhost:8080/"
        },
        "id": "KhNKH99r7brr",
        "outputId": "c664d407-12d2-40ff-eb41-4b1025d50e35"
      },
      "execution_count": 10,
      "outputs": [
        {
          "output_type": "stream",
          "name": "stdout",
          "text": [
            "Please enter number: 15\n",
            "15 is too big\n"
          ]
        }
      ]
    }
  ]
}