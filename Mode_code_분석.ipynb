{
  "nbformat": 4,
  "nbformat_minor": 0,
  "metadata": {
    "colab": {
      "provenance": [],
      "authorship_tag": "ABX9TyMLrYJLZdX4QTqI3RDVcgFO",
      "include_colab_link": true
    },
    "kernelspec": {
      "name": "python3",
      "display_name": "Python 3"
    },
    "language_info": {
      "name": "python"
    }
  },
  "cells": [
    {
      "cell_type": "markdown",
      "metadata": {
        "id": "view-in-github",
        "colab_type": "text"
      },
      "source": [
        "<a href=\"https://colab.research.google.com/github/jj0ng/TIL/blob/main/Mode_code_%EB%B6%84%EC%84%9D.ipynb\" target=\"_parent\"><img src=\"https://colab.research.google.com/assets/colab-badge.svg\" alt=\"Open In Colab\"/></a>"
      ]
    },
    {
      "cell_type": "code",
      "source": [
        "list1 = [12, 16, 20, 20, 12, 30, 25, 23, 24, 20]\n",
        "frequency = {}\n",
        "for i in list1:\n",
        "    frequency.setdefault(i, 0)\n",
        "    frequency[i]+=1"
      ],
      "metadata": {
        "id": "i61ncPWFdtz3"
      },
      "execution_count": 15,
      "outputs": []
    },
    {
      "cell_type": "code",
      "source": [
        "frequency"
      ],
      "metadata": {
        "colab": {
          "base_uri": "https://localhost:8080/"
        },
        "id": "h5Z2Hx_Hi05g",
        "outputId": "8878cd0e-4bda-4871-98f4-edc4af209b7c"
      },
      "execution_count": 16,
      "outputs": [
        {
          "output_type": "execute_result",
          "data": {
            "text/plain": [
              "{12: 2, 16: 1, 20: 3, 30: 1, 25: 1, 23: 1, 24: 1}"
            ]
          },
          "metadata": {},
          "execution_count": 16
        }
      ]
    },
    {
      "cell_type": "code",
      "source": [
        "frequent = max(frequency.values())\n",
        "for i, j in frequency.items():\n",
        "    if j == frequent:\n",
        "        mode = i\n",
        "print(mode)"
      ],
      "metadata": {
        "id": "kzI_JfnsjHAR"
      },
      "execution_count": null,
      "outputs": []
    },
    {
      "cell_type": "code",
      "source": [
        "frequency.values()"
      ],
      "metadata": {
        "colab": {
          "base_uri": "https://localhost:8080/"
        },
        "id": "7nRgJ2-Md_-J",
        "outputId": "447ae17f-57bc-42a0-b90b-c5d3a4c5303c"
      },
      "execution_count": 13,
      "outputs": [
        {
          "output_type": "execute_result",
          "data": {
            "text/plain": [
              "dict_values([2, 1, 3, 1, 1, 1, 1])"
            ]
          },
          "metadata": {},
          "execution_count": 13
        }
      ]
    },
    {
      "cell_type": "code",
      "source": [
        "frequency.items()"
      ],
      "metadata": {
        "colab": {
          "base_uri": "https://localhost:8080/"
        },
        "id": "A_7egwSXeICd",
        "outputId": "565be357-f870-44f7-fecd-2152386c67a7"
      },
      "execution_count": 14,
      "outputs": [
        {
          "output_type": "execute_result",
          "data": {
            "text/plain": [
              "dict_items([(12, 2), (16, 1), (20, 3), (30, 1), (25, 1), (23, 1), (24, 1)])"
            ]
          },
          "metadata": {},
          "execution_count": 14
        }
      ]
    }
  ]
}