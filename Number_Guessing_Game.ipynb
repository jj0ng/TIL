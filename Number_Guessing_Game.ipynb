{
  "nbformat": 4,
  "nbformat_minor": 0,
  "metadata": {
    "colab": {
      "provenance": [],
      "authorship_tag": "ABX9TyN7nAK5ly0X8k6rqDuACK/e",
      "include_colab_link": true
    },
    "kernelspec": {
      "name": "python3",
      "display_name": "Python 3"
    },
    "language_info": {
      "name": "python"
    }
  },
  "cells": [
    {
      "cell_type": "markdown",
      "metadata": {
        "id": "view-in-github",
        "colab_type": "text"
      },
      "source": [
        "<a href=\"https://colab.research.google.com/github/jj0ng/TIL/blob/main/Number_Guessing_Game.ipynb\" target=\"_parent\"><img src=\"https://colab.research.google.com/assets/colab-badge.svg\" alt=\"Open In Colab\"/></a>"
      ]
    },
    {
      "cell_type": "markdown",
      "source": [
        "## Number Guessing Game using Python"
      ],
      "metadata": {
        "id": "mTK8W0IoWxJ8"
      }
    },
    {
      "cell_type": "markdown",
      "source": [
        "To create a guessing game, we need to write a program to select a random number between 1 and 10. To give hints to the user, we can use conditional statements to tell the user if the guessed number is smaller, greater than or equal to the randomly selected number.\n",
        "\n",
        "So below is how you can write a program to create a number guessing game using Python:"
      ],
      "metadata": {
        "id": "2ufvQCr-WfEF"
      }
    },
    {
      "cell_type": "code",
      "execution_count": 57,
      "metadata": {
        "colab": {
          "base_uri": "https://localhost:8080/"
        },
        "id": "2iJjMT8Idp-k",
        "outputId": "6556a340-da7a-4533-a2a6-992e0d1da2bb"
      },
      "outputs": [
        {
          "output_type": "stream",
          "name": "stdout",
          "text": [
            "Enter any number: 3\n",
            "Too low\n",
            "Enter number again: 4\n",
            "Too low\n",
            "Enter number again: 5\n",
            "Too low\n",
            "Enter number again: 6\n",
            "Too low\n",
            "Enter number again: 7\n",
            "Too low\n",
            "Enter number again: 8\n",
            "you guessed it right!!\n"
          ]
        }
      ],
      "source": [
        "import random\n",
        "n = random.randrange(1,10)\n",
        "guess = int(input(\"Enter any number: \"))\n",
        "while n!= guess:\n",
        "    if guess < n:\n",
        "        print(\"Too low\")\n",
        "        guess = int(input(\"Enter number again: \"))\n",
        "    elif guess > n:\n",
        "        print(\"Too high!\")\n",
        "        guess = int(input(\"Enter number again: \"))\n",
        "    else:\n",
        "      break\n",
        "print(\"you guessed it right!!\")"
      ]
    }
  ]
}