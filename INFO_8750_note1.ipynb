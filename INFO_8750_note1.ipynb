{
  "nbformat": 4,
  "nbformat_minor": 0,
  "metadata": {
    "colab": {
      "provenance": [],
      "authorship_tag": "ABX9TyM2cwYjc22k05sJFzmpQIEn",
      "include_colab_link": true
    },
    "kernelspec": {
      "name": "python3",
      "display_name": "Python 3"
    },
    "language_info": {
      "name": "python"
    }
  },
  "cells": [
    {
      "cell_type": "markdown",
      "metadata": {
        "id": "view-in-github",
        "colab_type": "text"
      },
      "source": [
        "<a href=\"https://colab.research.google.com/github/jj0ng/TIL/blob/main/INFO_8750_note1.ipynb\" target=\"_parent\"><img src=\"https://colab.research.google.com/assets/colab-badge.svg\" alt=\"Open In Colab\"/></a>"
      ]
    },
    {
      "cell_type": "code",
      "execution_count": null,
      "metadata": {
        "colab": {
          "base_uri": "https://localhost:8080/"
        },
        "id": "RuATNLhPOoyY",
        "outputId": "22d4e45d-bc43-4aa2-b3bd-c5da5b629490"
      },
      "outputs": [
        {
          "output_type": "stream",
          "name": "stdout",
          "text": [
            "please enter your guess: 5\n",
            "go up!\n",
            "please enter your guess: 30\n",
            "go up!\n",
            "please enter your guess: 85\n",
            "go down!\n",
            "please enter your guess: 65\n",
            "go up!\n",
            "please enter your guess: 70\n",
            "go up!\n",
            "please enter your guess: 75\n",
            "go up!\n",
            "please enter your guess: 80\n",
            "go up!\n",
            "please enter your guess: 83\n",
            "go down!\n",
            "please enter your guess: 81\n",
            "go up!\n",
            "please enter your guess: 82\n",
            "Correct!\n"
          ]
        }
      ],
      "source": [
        "import random\n",
        "def main():\n",
        "    ans = random.randint(1,100)\n",
        "    guess = -1\n",
        "    while(ans != guess):\n",
        "        guess = int(input(\"please enter your guess: \"))\n",
        "        if guess > ans:\n",
        "            print(\"go down!\")\n",
        "        elif guess < ans:\n",
        "            print(\"go up!\")\n",
        "        else:\n",
        "            print(\"Correct!\")\n",
        "\n",
        "# Press the green button in the gutter to run the script.\n",
        "if __name__ == '__main__':\n",
        "    main()"
      ]
    },
    {
      "cell_type": "code",
      "source": [
        "def main():\n",
        "    ans = random.randint(1,100)\n",
        "    guess = -1\n",
        "    upper = 99\n",
        "    lower = 1\n",
        "    while(ans != guess):\n",
        "        print(lower,\"~\",upper)\n",
        "        guess = int(input(\"please enter your guess: \"))\n",
        "        if guess > ans:\n",
        "            upper = guess\n",
        "        elif guess < ans:\n",
        "            lower = guess\n",
        "        else:\n",
        "            print(\"Correct!\")\n",
        "# Press the green button in the gutter to run the script.\n",
        "if __name__ == '__main__':\n",
        "    main()\n"
      ],
      "metadata": {
        "colab": {
          "base_uri": "https://localhost:8080/"
        },
        "id": "2mq2R8AMPJ0D",
        "outputId": "4a14938f-a123-4382-98d1-08f5ae89e41c"
      },
      "execution_count": null,
      "outputs": [
        {
          "output_type": "stream",
          "name": "stdout",
          "text": [
            "1 ~ 99\n",
            "please enter your guess: 50\n",
            "50 ~ 99\n",
            "please enter your guess: 60\n",
            "60 ~ 99\n",
            "please enter your guess: 70\n",
            "70 ~ 99\n",
            "please enter your guess: 80\n",
            "80 ~ 99\n",
            "please enter your guess: 90\n",
            "90 ~ 99\n",
            "please enter your guess: 95\n",
            "90 ~ 95\n",
            "please enter your guess: 94\n",
            "90 ~ 94\n",
            "please enter your guess: 93\n",
            "90 ~ 93\n",
            "please enter your guess: 92\n",
            "90 ~ 92\n",
            "please enter your guess: 91\n",
            "Correct!\n"
          ]
        }
      ]
    },
    {
      "cell_type": "code",
      "source": [
        "import random\n",
        "def main():\n",
        "    rabbit = 0\n",
        "    turtle = 0\n",
        "    finish_line = 50\n",
        "    while (rabbit <= finish_line and turtle <= finish_line):\n",
        "        turtle+= random.randint(1,6)\n",
        "        rabbit+= random.randint(1,6)\n",
        "        for i in range(1,1+max(finish_line,turtle)):\n",
        "            #print(i,end=\"\")\n",
        "            if i == turtle:\n",
        "                print(\"T\",end=\"\")\n",
        "            elif i == finish_line:\n",
        "                print(\"|\",end=\"\")\n",
        "            elif i < turtle:\n",
        "                print(\".\",end=\"\")\n",
        "            elif i > turtle:\n",
        "                print(\" \",end=\"\")\n",
        "        print()\n",
        "        for i in range(1,1+max(finish_line,rabbit)):\n",
        "            #print(i,end=\"\")\n",
        "            if i == rabbit:\n",
        "                print(\"R\",end=\"\")\n",
        "            elif i == finish_line:\n",
        "                print(\"|\",end=\"\")\n",
        "            elif i < rabbit:\n",
        "                print(\".\",end=\"\")\n",
        "            elif i > rabbit:\n",
        "                print(\" \",end=\"\")\n",
        "        print()\n",
        "    if (rabbit > turtle):\n",
        "        print(\"rabbit won!\")\n",
        "    elif (rabbit < turtel):\n",
        "        print(\"turtle won!\")\n",
        "    else:\n",
        "        print('tie!')\n",
        "# Press the green button in the gutter to run the script.\n",
        "if __name__ == '__main__':\n",
        "    main()"
      ],
      "metadata": {
        "id": "XAXSl0pxo9nR",
        "colab": {
          "base_uri": "https://localhost:8080/"
        },
        "outputId": "013b78c0-c80d-43e2-d1fe-3f3cf56681fb"
      },
      "execution_count": null,
      "outputs": [
        {
          "output_type": "stream",
          "name": "stdout",
          "text": [
            "...T                                             |\n",
            ".R                                               |\n",
            ".....T                                           |\n",
            "....R                                            |\n",
            "......T                                          |\n",
            "..........R                                      |\n",
            "........T                                        |\n",
            "................R                                |\n",
            ".............T                                   |\n",
            "......................R                          |\n",
            ".................T                               |\n",
            "...........................R                     |\n",
            "....................T                            |\n",
            ".............................R                   |\n",
            ".....................T                           |\n",
            "..............................R                  |\n",
            "..........................T                      |\n",
            "....................................R            |\n",
            "............................T                    |\n",
            ".......................................R         |\n",
            ".............................T                   |\n",
            "........................................R        |\n",
            "................................T                |\n",
            ".........................................R       |\n",
            ".................................T               |\n",
            "...............................................R |\n",
            "..................................T              |\n",
            ".................................................|...R\n",
            "rabbit won!\n"
          ]
        }
      ]
    },
    {
      "cell_type": "code",
      "source": [
        "import random\n",
        "import string\n",
        "def main():\n",
        "    message = input(\"Please input your message: \")\n",
        "    l = len(message)\n",
        "    secret_key = 7\n",
        "    secret = ''\n",
        "    for i in range(l*10):\n",
        "        if i % 10 == secret_key:\n",
        "            secret+=message[i//10]\n",
        "        else:\n",
        "            secret+=random.choice('abcdefghijklmnopqrstuvwxyz')\n",
        "    print(secret)\n",
        "\n",
        "# Press the green button in the gutter to run the script.\n",
        "if __name__ == '__main__':\n",
        "    main()"
      ],
      "metadata": {
        "colab": {
          "base_uri": "https://localhost:8080/"
        },
        "id": "5cfpFrIlpefD",
        "outputId": "576e9a01-c37c-4bd4-e0ef-552676ad3889"
      },
      "execution_count": null,
      "outputs": [
        {
          "output_type": "stream",
          "name": "stdout",
          "text": [
            "Please input your message: It is cold today\n",
            "uawmwyoIvstcatfdvtfebqfukma njcbquoicioekfwndpssgpwsbzxjv pvuntsrstclvyvamqcqobbrexqfwkloyjxindgzdktbiszgan vcvqfsfnjtbsgzzdnadogpkgbtpzfdjnaawpoodaxzrvfzxmtyic\n"
          ]
        }
      ]
    },
    {
      "cell_type": "code",
      "source": [
        "import random\n",
        "import string\n",
        "def main():\n",
        "    message = input(\"Please input your message: \")\n",
        "    l = len(message)\n",
        "    secret_key = 7\n",
        "    secret = ''\n",
        "    for i in range(l*10):\n",
        "        if i % 10 == secret_key:\n",
        "            if message[i//10] == ' ':\n",
        "                secret+='a'\n",
        "            else:\n",
        "                secret+=message[i//10]\n",
        "        else:\n",
        "            secret+=random.choice(string.ascii_letters)\n",
        "    print(secret)\n",
        "# Press the green button in the gutter to run the script.\n",
        "if __name__ == '__main__':\n",
        "    main()"
      ],
      "metadata": {
        "colab": {
          "base_uri": "https://localhost:8080/"
        },
        "id": "6OV6rkCfp1pT",
        "outputId": "75648bd1-86d4-47d9-e0af-8fff72ee17f5"
      },
      "execution_count": null,
      "outputs": [
        {
          "output_type": "stream",
          "name": "stdout",
          "text": [
            "Please input your message: It is cold\n",
            "GSazxYuIPfIVbfSeDtzTXUCtQCsaykNZteKjKiuVUJsGIsKsSSzjFjfeZaXxLwQYZaDcYbGURZnkuoUZQZwefqblmDqURCkVidlO\n"
          ]
        }
      ]
    },
    {
      "cell_type": "code",
      "source": [
        "import random\n",
        "import string\n",
        "def main():\n",
        "    message = input(\"Please input your message: \")\n",
        "    l = len(message)\n",
        "    secret_key = 7\n",
        "    secret = ''\n",
        "    for i in range(l*10):\n",
        "        if i % 10 == secret_key:\n",
        "            #if message[i//10] == ' ':\n",
        "            #    secret+='a'\n",
        "            #else:\n",
        "            secret+=message[i//10]\n",
        "        else:\n",
        "            secret+=random.choice(string.printable)#string.ascii_letters)\n",
        "    print(secret)\n",
        "# Press the green button in the gutter to run the script.\n",
        "if __name__ == '__main__':\n",
        "    main()"
      ],
      "metadata": {
        "colab": {
          "base_uri": "https://localhost:8080/"
        },
        "id": "O96GRMdPqA1v",
        "outputId": "eb58a19b-62ff-44b8-b5c0-295b7af61754"
      },
      "execution_count": null,
      "outputs": [
        {
          "output_type": "stream",
          "name": "stdout",
          "text": [
            "Please input your message: It is cold\n",
            "-Ev!QErIXpYt=dh{\u000bt=AS]$a/TT 9b|{*//.}itJMj\n",
            "zk8YHwU{c/\"-zmRVj+oVE\fr]FPzElA\u000b[i|mj4\u000bd-*\n"
          ]
        }
      ]
    },
    {
      "cell_type": "code",
      "source": [
        "import random\n",
        "import string\n",
        "\n",
        "def encoder(): #meet you on thursday \n",
        "    message = input(\"Please input your message: \")\n",
        "    l = len(message)\n",
        "    secret_key1 = 12\n",
        "    secret_key2 = 23\n",
        "    secret = ''\n",
        "    for i in range(l*secret_key2):\n",
        "        if i % secret_key2 == secret_key1:\n",
        "            #if message[i//10] == ' ':\n",
        "            #    secret+='a'\n",
        "            #else:\n",
        "            secret+=message[i//secret_key2]\n",
        "        else:\n",
        "            secret+=random.choice(string.printable)#string.ascii_letters)\n",
        "    print(secret)\n",
        "    decoder(secret)\n",
        "    \n",
        "# Press the green button in the gutter to run the script.\n",
        "if __name__ == '__main__':\n",
        "    main()"
      ],
      "metadata": {
        "id": "7qkcG_Pvqpuz",
        "colab": {
          "base_uri": "https://localhost:8080/",
          "height": 341
        },
        "outputId": "e0966a5c-08f9-449a-85cc-9cab87793bbe"
      },
      "execution_count": 19,
      "outputs": [
        {
          "output_type": "error",
          "ename": "KeyboardInterrupt",
          "evalue": "ignored",
          "traceback": [
            "\u001b[0;31m---------------------------------------------------------------------------\u001b[0m",
            "\u001b[0;31mKeyboardInterrupt\u001b[0m                         Traceback (most recent call last)",
            "\u001b[0;32m<ipython-input-19-55fe2ff09d1d>\u001b[0m in \u001b[0;36m<module>\u001b[0;34m\u001b[0m\n\u001b[1;32m     21\u001b[0m \u001b[0;31m# Press the green button in the gutter to run the script.\u001b[0m\u001b[0;34m\u001b[0m\u001b[0;34m\u001b[0m\u001b[0;34m\u001b[0m\u001b[0m\n\u001b[1;32m     22\u001b[0m \u001b[0;32mif\u001b[0m \u001b[0m__name__\u001b[0m \u001b[0;34m==\u001b[0m \u001b[0;34m'__main__'\u001b[0m\u001b[0;34m:\u001b[0m\u001b[0;34m\u001b[0m\u001b[0;34m\u001b[0m\u001b[0m\n\u001b[0;32m---> 23\u001b[0;31m     \u001b[0mmain\u001b[0m\u001b[0;34m(\u001b[0m\u001b[0;34m)\u001b[0m\u001b[0;34m\u001b[0m\u001b[0;34m\u001b[0m\u001b[0m\n\u001b[0m",
            "\u001b[0;32m<ipython-input-13-c304c979c9fb>\u001b[0m in \u001b[0;36mmain\u001b[0;34m()\u001b[0m\n\u001b[1;32m      2\u001b[0m \u001b[0;32mimport\u001b[0m \u001b[0mstring\u001b[0m\u001b[0;34m\u001b[0m\u001b[0;34m\u001b[0m\u001b[0m\n\u001b[1;32m      3\u001b[0m \u001b[0;32mdef\u001b[0m \u001b[0mmain\u001b[0m\u001b[0;34m(\u001b[0m\u001b[0;34m)\u001b[0m\u001b[0;34m:\u001b[0m\u001b[0;34m\u001b[0m\u001b[0;34m\u001b[0m\u001b[0m\n\u001b[0;32m----> 4\u001b[0;31m     \u001b[0mmessage\u001b[0m \u001b[0;34m=\u001b[0m \u001b[0minput\u001b[0m\u001b[0;34m(\u001b[0m\u001b[0;34m\"Please input your message: \"\u001b[0m\u001b[0;34m)\u001b[0m\u001b[0;34m\u001b[0m\u001b[0;34m\u001b[0m\u001b[0m\n\u001b[0m\u001b[1;32m      5\u001b[0m     \u001b[0ml\u001b[0m \u001b[0;34m=\u001b[0m \u001b[0mlen\u001b[0m\u001b[0;34m(\u001b[0m\u001b[0mmessage\u001b[0m\u001b[0;34m)\u001b[0m\u001b[0;34m\u001b[0m\u001b[0;34m\u001b[0m\u001b[0m\n\u001b[1;32m      6\u001b[0m     \u001b[0msecret_key\u001b[0m \u001b[0;34m=\u001b[0m \u001b[0;36m7\u001b[0m\u001b[0;34m\u001b[0m\u001b[0;34m\u001b[0m\u001b[0m\n",
            "\u001b[0;32m/usr/local/lib/python3.8/dist-packages/ipykernel/kernelbase.py\u001b[0m in \u001b[0;36mraw_input\u001b[0;34m(self, prompt)\u001b[0m\n\u001b[1;32m    858\u001b[0m                 \u001b[0;34m\"raw_input was called, but this frontend does not support input requests.\"\u001b[0m\u001b[0;34m\u001b[0m\u001b[0;34m\u001b[0m\u001b[0m\n\u001b[1;32m    859\u001b[0m             )\n\u001b[0;32m--> 860\u001b[0;31m         return self._input_request(str(prompt),\n\u001b[0m\u001b[1;32m    861\u001b[0m             \u001b[0mself\u001b[0m\u001b[0;34m.\u001b[0m\u001b[0m_parent_ident\u001b[0m\u001b[0;34m,\u001b[0m\u001b[0;34m\u001b[0m\u001b[0;34m\u001b[0m\u001b[0m\n\u001b[1;32m    862\u001b[0m             \u001b[0mself\u001b[0m\u001b[0;34m.\u001b[0m\u001b[0m_parent_header\u001b[0m\u001b[0;34m,\u001b[0m\u001b[0;34m\u001b[0m\u001b[0;34m\u001b[0m\u001b[0m\n",
            "\u001b[0;32m/usr/local/lib/python3.8/dist-packages/ipykernel/kernelbase.py\u001b[0m in \u001b[0;36m_input_request\u001b[0;34m(self, prompt, ident, parent, password)\u001b[0m\n\u001b[1;32m    902\u001b[0m             \u001b[0;32mexcept\u001b[0m \u001b[0mKeyboardInterrupt\u001b[0m\u001b[0;34m:\u001b[0m\u001b[0;34m\u001b[0m\u001b[0;34m\u001b[0m\u001b[0m\n\u001b[1;32m    903\u001b[0m                 \u001b[0;31m# re-raise KeyboardInterrupt, to truncate traceback\u001b[0m\u001b[0;34m\u001b[0m\u001b[0;34m\u001b[0m\u001b[0;34m\u001b[0m\u001b[0m\n\u001b[0;32m--> 904\u001b[0;31m                 \u001b[0;32mraise\u001b[0m \u001b[0mKeyboardInterrupt\u001b[0m\u001b[0;34m(\u001b[0m\u001b[0;34m\"Interrupted by user\"\u001b[0m\u001b[0;34m)\u001b[0m \u001b[0;32mfrom\u001b[0m \u001b[0;32mNone\u001b[0m\u001b[0;34m\u001b[0m\u001b[0;34m\u001b[0m\u001b[0m\n\u001b[0m\u001b[1;32m    905\u001b[0m             \u001b[0;32mexcept\u001b[0m \u001b[0mException\u001b[0m \u001b[0;32mas\u001b[0m \u001b[0me\u001b[0m\u001b[0;34m:\u001b[0m\u001b[0;34m\u001b[0m\u001b[0;34m\u001b[0m\u001b[0m\n\u001b[1;32m    906\u001b[0m                 \u001b[0mself\u001b[0m\u001b[0;34m.\u001b[0m\u001b[0mlog\u001b[0m\u001b[0;34m.\u001b[0m\u001b[0mwarning\u001b[0m\u001b[0;34m(\u001b[0m\u001b[0;34m\"Invalid Message:\"\u001b[0m\u001b[0;34m,\u001b[0m \u001b[0mexc_info\u001b[0m\u001b[0;34m=\u001b[0m\u001b[0;32mTrue\u001b[0m\u001b[0;34m)\u001b[0m\u001b[0;34m\u001b[0m\u001b[0;34m\u001b[0m\u001b[0m\n",
            "\u001b[0;31mKeyboardInterrupt\u001b[0m: Interrupted by user"
          ]
        }
      ]
    },
    {
      "cell_type": "code",
      "source": [
        "def decoder(secret):\n",
        "    #secret = \"4N0:_c Z\\\"T7vFlI.iaF.r<py5s>/\\@'--^B >jf#? k^JTRkmfGGZ.hH[#7sW(WwuM9!f&8\\e;r\\\\0t4QrGu%sT-WVeC>g}dHMTvw<ZAaxSNssb3myY/\"\n",
        "    secret = \"ClQjVekIlyFcoBwmwtCZngZGhYt yqRPCcptDiJELHFNfGdstVniXhefm ExKYZUcSLcJjKEeMfQKoFvrUcVthqlIxFKKPmindQUkyrNfCj JXfxZSGsqtkWkkBGUWZoJJXTbChRidhmWMRccWiabdDhuCSwhyni\"\n",
        "    key = 7\n",
        "    l = len(secret)\n",
        "    for k in range(10):\n",
        "        real =''\n",
        "        for i in range(l):\n",
        "            if i % 10 == key:\n",
        "                real+= secret[i]\n",
        "        print(real)\n",
        "# Press the green button in the gutter to run the script.\n",
        "if __name__ == '__main__':\n",
        "    main()"
      ],
      "metadata": {
        "id": "vbDrQLMbq5Hs"
      },
      "execution_count": null,
      "outputs": []
    }
  ]
}