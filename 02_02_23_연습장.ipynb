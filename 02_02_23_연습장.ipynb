{
  "nbformat": 4,
  "nbformat_minor": 0,
  "metadata": {
    "colab": {
      "provenance": [],
      "authorship_tag": "ABX9TyPObutUKZp3mCuM/32TT1Qr",
      "include_colab_link": true
    },
    "kernelspec": {
      "name": "python3",
      "display_name": "Python 3"
    },
    "language_info": {
      "name": "python"
    }
  },
  "cells": [
    {
      "cell_type": "markdown",
      "metadata": {
        "id": "view-in-github",
        "colab_type": "text"
      },
      "source": [
        "<a href=\"https://colab.research.google.com/github/jj0ng/TIL/blob/main/02_02_23_%EC%97%B0%EC%8A%B5%EC%9E%A5.ipynb\" target=\"_parent\"><img src=\"https://colab.research.google.com/assets/colab-badge.svg\" alt=\"Open In Colab\"/></a>"
      ]
    },
    {
      "cell_type": "code",
      "execution_count": 7,
      "metadata": {
        "colab": {
          "base_uri": "https://localhost:8080/"
        },
        "id": "gTySdGaZeAbK",
        "outputId": "f2668cd1-2b81-4001-9e18-4679855cd5d0"
      },
      "outputs": [
        {
          "output_type": "stream",
          "name": "stdout",
          "text": [
            "0번째 반복: 273\n",
            "1번째 반복: 32\n",
            "2번째 반복: 103\n",
            "3번째 반복: 57\n",
            "4번째 반복: 52\n"
          ]
        }
      ],
      "source": [
        "array = [273, 32, 103, 57, 52]\n",
        "for i in range(len(array)):\n",
        "  print(\"{}번째 반복: {}\".format(i, array[i]))"
      ]
    },
    {
      "cell_type": "code",
      "source": [
        "for i in range(4, 0-1, -1):\n",
        "  print(\"현재 반복 변수: {}\".format(i))"
      ],
      "metadata": {
        "colab": {
          "base_uri": "https://localhost:8080/"
        },
        "id": "sGXdtEdVC1UO",
        "outputId": "a2db9caa-8849-4763-c26f-c2f015ef3756"
      },
      "execution_count": 11,
      "outputs": [
        {
          "output_type": "stream",
          "name": "stdout",
          "text": [
            "현재 반복 변수: 4\n",
            "현재 반복 변수: 3\n",
            "현재 반복 변수: 2\n",
            "현재 반복 변수: 1\n",
            "현재 반복 변수: 0\n"
          ]
        }
      ]
    },
    {
      "cell_type": "code",
      "source": [
        "print('S', 'E', 'P', sep='@')\n",
        "print('SEP', sep='@')\n",
        "print('I like', end=\"\")\n",
        "print(' money')"
      ],
      "metadata": {
        "colab": {
          "base_uri": "https://localhost:8080/"
        },
        "id": "-HBUY9NxFbw1",
        "outputId": "d61be504-caf2-4cc5-dc78-b0dfba5417e8"
      },
      "execution_count": 18,
      "outputs": [
        {
          "output_type": "stream",
          "name": "stdout",
          "text": [
            "S@E@P\n",
            "SEP\n",
            "I like money\n"
          ]
        }
      ]
    },
    {
      "cell_type": "code",
      "source": [
        "list_c = [1, 2, 1, 2]\n",
        "list_c.remove(2)\n",
        "list_c"
      ],
      "metadata": {
        "colab": {
          "base_uri": "https://localhost:8080/"
        },
        "id": "2Bpbe-zkHFCv",
        "outputId": "61390a58-0873-4864-937e-b2b8bdd0b9a3"
      },
      "execution_count": 21,
      "outputs": [
        {
          "output_type": "execute_result",
          "data": {
            "text/plain": [
              "[1, 1, 2]"
            ]
          },
          "metadata": {},
          "execution_count": 21
        }
      ]
    },
    {
      "cell_type": "code",
      "source": [
        "list_test = [1, 2, 1, 2]\n",
        "value = 2 \n",
        "\n",
        "while value in list_test:\n",
        "  list_test.remove(value)\n",
        "\n",
        "print(list_test)"
      ],
      "metadata": {
        "colab": {
          "base_uri": "https://localhost:8080/"
        },
        "id": "1umAZ80lHOSr",
        "outputId": "24234590-b328-4e95-ba2b-ff4b4a6ff877"
      },
      "execution_count": 22,
      "outputs": [
        {
          "output_type": "stream",
          "name": "stdout",
          "text": [
            "[1, 1]\n"
          ]
        }
      ]
    },
    {
      "cell_type": "code",
      "source": [
        "import time\n",
        "time.time(b)"
      ],
      "metadata": {
        "colab": {
          "base_uri": "https://localhost:8080/"
        },
        "id": "daKtT64KJ0hp",
        "outputId": "a1d6c0b2-db07-4229-fe02-bb4b8bdb6dae"
      },
      "execution_count": 25,
      "outputs": [
        {
          "output_type": "execute_result",
          "data": {
            "text/plain": [
              "1675375375.0498533"
            ]
          },
          "metadata": {},
          "execution_count": 25
        }
      ]
    },
    {
      "cell_type": "code",
      "source": [
        "number = 0 \n",
        "target_tick = time.time() + 5 \n",
        "while time.time()<target_tick:\n",
        "  number += 1\n",
        "\n",
        "print(\"5초 동안 {}번 반복했습니다.\".format(number))"
      ],
      "metadata": {
        "colab": {
          "base_uri": "https://localhost:8080/"
        },
        "id": "lUtfJYPHKPfs",
        "outputId": "2d94febd-46ec-48df-ff35-4b1506936106"
      },
      "execution_count": 27,
      "outputs": [
        {
          "output_type": "stream",
          "name": "stdout",
          "text": [
            "5초 동안 24502050번 반복했습니다.\n"
          ]
        }
      ]
    },
    {
      "cell_type": "code",
      "source": [
        "i=0 \n",
        "\n",
        "while True:\n",
        "  print(\"{}번째 반복문입니다.\".format(i))\n",
        "  i += 1\n",
        "\n",
        "  input_text = input(\">종료하시겠습니까?(y): \")\n",
        "  if input_text in ['Y', 'y']:\n",
        "    print(\"반복을 종료합니다.\")\n",
        "    break"
      ],
      "metadata": {
        "colab": {
          "base_uri": "https://localhost:8080/"
        },
        "id": "Iezyw38HMJ-W",
        "outputId": "0ceaf5da-0b00-48db-9bc5-9de0dd66b106"
      },
      "execution_count": 31,
      "outputs": [
        {
          "output_type": "stream",
          "name": "stdout",
          "text": [
            "0번째 반복문입니다.\n",
            ">종료하시겠습니까?(y): n\n",
            "1번째 반복문입니다.\n",
            ">종료하시겠습니까?(y): n\n",
            "2번째 반복문입니다.\n",
            ">종료하시겠습니까?(y): y\n",
            "반복을 종료합니다.\n"
          ]
        }
      ]
    },
    {
      "cell_type": "code",
      "source": [
        "numbers = [5, 15, 6, 20, 7, 25]\n",
        "\n",
        "for number in numbers: \n",
        "  if number < 10: \n",
        "    continue \n",
        "  print(number)"
      ],
      "metadata": {
        "colab": {
          "base_uri": "https://localhost:8080/"
        },
        "id": "6BSbxPZ2NjHk",
        "outputId": "a6edd408-59bb-4b17-bb63-4562c1983f21"
      },
      "execution_count": 33,
      "outputs": [
        {
          "output_type": "stream",
          "name": "stdout",
          "text": [
            "15\n",
            "20\n",
            "25\n"
          ]
        }
      ]
    }
  ]
}