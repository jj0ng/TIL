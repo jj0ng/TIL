{
  "nbformat": 4,
  "nbformat_minor": 0,
  "metadata": {
    "colab": {
      "provenance": [],
      "authorship_tag": "ABX9TyMn/wzc9qMOo8jEJIgatjO9",
      "include_colab_link": true
    },
    "kernelspec": {
      "name": "python3",
      "display_name": "Python 3"
    },
    "language_info": {
      "name": "python"
    }
  },
  "cells": [
    {
      "cell_type": "markdown",
      "metadata": {
        "id": "view-in-github",
        "colab_type": "text"
      },
      "source": [
        "<a href=\"https://colab.research.google.com/github/jj0ng/TIL/blob/main/Jupyter_Keyboard_Shortcut.ipynb\" target=\"_parent\"><img src=\"https://colab.research.google.com/assets/colab-badge.svg\" alt=\"Open In Colab\"/></a>"
      ]
    },
    {
      "cell_type": "markdown",
      "source": [
        "(1) 셀 선택 모드"
      ],
      "metadata": {
        "id": "tW6RjW9oGinF"
      }
    },
    {
      "cell_type": "markdown",
      "source": [
        "파란색은 셀 선택 상태입니다.\n",
        "[ESC]또는 [Ctrl] + [m]를 눌러 셀이 아래와 같이 파란색이 된 상태에서 해당 단축키 누름\n"
      ],
      "metadata": {
        "id": "PXDDxDM9HMXY"
      }
    },
    {
      "cell_type": "markdown",
      "source": [
        "a : 위에 새로운 셀 추가\n",
        "\n",
        "b : 아래에 새로운 셀 추가\n",
        "\n",
        "\n",
        "c : 셀 복사하기\n",
        "\n",
        "v : 셀 붙여넣기\n",
        "\n",
        "x : 셀 잘라내기\n",
        "\n",
        "dd : 셀 삭제하기\n",
        "\n",
        "p : 셀 아래에 붙여넣기\n",
        "\n",
        " \n",
        "\n",
        "o : 실행결과 열기/닫기\n",
        "\n",
        "m : Markdown으로 변경\n",
        "\n",
        "y : Code로 변경\n",
        "\n",
        "Shift + m : 선택 셀과 아래 셀과 합치기\n",
        "\n",
        "Ctrl + s 또는 s  : 파일 저장\n",
        "\n",
        "Enter  : 선택 셀의 코드 입력 모드로 돌아가기"
      ],
      "metadata": {
        "id": "JZyCBgLZHyhP"
      }
    },
    {
      "cell_type": "markdown",
      "source": [
        "(2) 코드 입력 모드 "
      ],
      "metadata": {
        "id": "t3hnz_ABH-hb"
      }
    },
    {
      "cell_type": "markdown",
      "source": [
        "초록색은 코드 입력 가능 상태입니다.\n",
        "[Enter]를 눌러 셀이 아래와 같이 초록색이 된 상태(코드 입력 모드)에서 해당 단축키 누름"
      ],
      "metadata": {
        "id": "0rNcVyCVIDv5"
      }
    },
    {
      "cell_type": "markdown",
      "source": [
        "Ctrl + Enter : 입력 셀 실행 \n",
        "\n",
        "Shift + Enter : 입력 셀 실행 후 아래 셀로 이동 (없으면 새로운 셀 추가)\n",
        "\n",
        "Alt + Enter : 입력영역 실행 후 아래 새로운 영역 추가\n",
        "\n",
        " \n",
        "\n",
        "Ctrl + a : 선택 셀의 코드 전체 선택\n",
        "\n",
        "Ctrl + z : 선택 셀 내 실행 취소\n",
        "\n",
        "Ctrl + y : 선택 셀 내 다시 실행\n",
        "\n",
        "Ctrl + / : 커서 위치 라인 주석처리\n",
        "\n",
        " \n",
        "\n",
        "Shitf + Ctrl + - : 커서 위치에서 셀 둘로 나누기"
      ],
      "metadata": {
        "id": "mVdnP0a0JOUe"
      }
    }
  ]
}